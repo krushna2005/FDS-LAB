{
 "cells": [
  {
   "cell_type": "code",
   "execution_count": 3,
   "id": "39d4ec57",
   "metadata": {},
   "outputs": [
    {
     "name": "stdout",
     "output_type": "stream",
     "text": [
      "Requirement already satisfied: numpy in c:\\users\\krush\\appdata\\local\\programs\\python\\python313\\lib\\site-packages (2.3.1)\n",
      "Note: you may need to restart the kernel to use updated packages.\n"
     ]
    },
    {
     "name": "stderr",
     "output_type": "stream",
     "text": [
      "\n",
      "[notice] A new release of pip is available: 25.1.1 -> 25.2\n",
      "[notice] To update, run: python.exe -m pip install --upgrade pip\n"
     ]
    }
   ],
   "source": [
    "pip install numpy"
   ]
  },
  {
   "cell_type": "code",
   "execution_count": 4,
   "id": "9228c9ee",
   "metadata": {},
   "outputs": [],
   "source": [
    "import numpy as np"
   ]
  },
  {
   "cell_type": "code",
   "execution_count": 5,
   "id": "88721cf7",
   "metadata": {},
   "outputs": [
    {
     "data": {
      "text/plain": [
       "array(10)"
      ]
     },
     "execution_count": 5,
     "metadata": {},
     "output_type": "execute_result"
    }
   ],
   "source": [
    "arr1=np.array(10)\n",
    "arr1"
   ]
  },
  {
   "cell_type": "code",
   "execution_count": 6,
   "id": "0af6580b",
   "metadata": {},
   "outputs": [
    {
     "data": {
      "text/plain": [
       "array([[0, 1, 2],\n",
       "       [3, 4, 5],\n",
       "       [6, 7, 8]])"
      ]
     },
     "execution_count": 6,
     "metadata": {},
     "output_type": "execute_result"
    }
   ],
   "source": [
    "arr2=np.array([[0,1,2],[3,4,5],[6,7,8]])\n",
    "arr2"
   ]
  },
  {
   "cell_type": "code",
   "execution_count": 7,
   "id": "78d36360",
   "metadata": {},
   "outputs": [
    {
     "data": {
      "text/plain": [
       "dtype('float64')"
      ]
     },
     "execution_count": 7,
     "metadata": {},
     "output_type": "execute_result"
    }
   ],
   "source": [
    "zeros=np.zeros(5)\n",
    "zeros.dtype"
   ]
  },
  {
   "cell_type": "code",
   "execution_count": 8,
   "id": "421663e2",
   "metadata": {},
   "outputs": [
    {
     "data": {
      "text/plain": [
       "(4, 3)"
      ]
     },
     "execution_count": 8,
     "metadata": {},
     "output_type": "execute_result"
    }
   ],
   "source": [
    "arr2=np.array([[0,1,2],[3,4,5],[9,7,8],[3,5,6]])\n",
    "arr2.shape\n"
   ]
  },
  {
   "cell_type": "code",
   "execution_count": 9,
   "id": "45d27f3a",
   "metadata": {},
   "outputs": [
    {
     "data": {
      "text/plain": [
       "dtype('int64')"
      ]
     },
     "execution_count": 9,
     "metadata": {},
     "output_type": "execute_result"
    }
   ],
   "source": [
    "\n",
    "arr2.dtype"
   ]
  },
  {
   "cell_type": "code",
   "execution_count": 3,
   "id": "89611f88",
   "metadata": {},
   "outputs": [
    {
     "name": "stdout",
     "output_type": "stream",
     "text": [
      "[[0 3]\n",
      " [1 4]\n",
      " [2 5]]\n"
     ]
    }
   ],
   "source": [
    "swapped = np.swapaxes(arr2, 0, 1)\n",
    "print(swapped)\n",
    "\n"
   ]
  },
  {
   "cell_type": "code",
   "execution_count": 2,
   "id": "46ffb1a8",
   "metadata": {},
   "outputs": [
    {
     "name": "stdout",
     "output_type": "stream",
     "text": [
      "[[0 1 2]\n",
      " [3 4 5]]\n"
     ]
    }
   ],
   "source": [
    "import numpy as np\n",
    "\n",
    "arr = np.arange(6)        # Create an array [0, 1, 2, 3, 4, 5]\n",
    "arr2 = np.reshape(arr, (2, 3))  # Reshape it to 2 rows and 3 columns\n",
    "print(arr2)\n"
   ]
  },
  {
   "cell_type": "code",
   "execution_count": null,
   "id": "09a5fcd8",
   "metadata": {},
   "outputs": [
    {
     "data": {
      "text/plain": [
       "array([[1, 3, 9, 3],\n",
       "       [6, 4, 7, 5],\n",
       "       [2, 5, 8, 6]])"
      ]
     },
     "execution_count": 43,
     "metadata": {},
     "output_type": "execute_result"
    }
   ],
   "source": [
    "arr2=np.array([[1,6,2],[3,4,5],[9,7,8],[3,5,6]])\n",
    "swaped = np.swapaxes(arr2, 0, 1)\n",
    "swaped"
   ]
  },
  {
   "cell_type": "code",
   "execution_count": null,
   "id": "053957f9",
   "metadata": {},
   "outputs": [
    {
     "data": {
      "text/plain": [
       "np.int64(9)"
      ]
     },
     "execution_count": 44,
     "metadata": {},
     "output_type": "execute_result"
    }
   ],
   "source": [
    "arr2.max()"
   ]
  },
  {
   "cell_type": "code",
   "execution_count": null,
   "id": "4acadc27",
   "metadata": {},
   "outputs": [
    {
     "data": {
      "text/plain": [
       "array([[1, 6, 2, 3],\n",
       "       [4, 5, 9, 7],\n",
       "       [8, 3, 5, 6]])"
      ]
     },
     "execution_count": 57,
     "metadata": {},
     "output_type": "execute_result"
    }
   ],
   "source": [
    "arr2.reshape(3,4)"
   ]
  },
  {
   "cell_type": "code",
   "execution_count": 1,
   "id": "aa5144b1",
   "metadata": {},
   "outputs": [
    {
     "name": "stdout",
     "output_type": "stream",
     "text": [
      "[1.         1.42857143 1.85714286 2.28571429 2.71428571 3.14285714\n",
      " 3.57142857 4.        ]\n"
     ]
    }
   ],
   "source": [
    "import numpy as np\n",
    "\n",
    "arr2 = np.linspace(1, 4, 8)\n",
    "print(arr2)\n"
   ]
  },
  {
   "cell_type": "code",
   "execution_count": null,
   "id": "af4bfdfd",
   "metadata": {},
   "outputs": [
    {
     "name": "stdout",
     "output_type": "stream",
     "text": [
      "[[1 2 3]\n",
      " [4 5 6]]\n"
     ]
    }
   ],
   "source": [
    "import numpy as np\n",
    "print(np.array([1, 2, 3, 4, 5, 6]).reshape(2, 3))"
   ]
  },
  {
   "cell_type": "code",
   "execution_count": null,
   "id": "69201b80",
   "metadata": {},
   "outputs": [
    {
     "name": "stdout",
     "output_type": "stream",
     "text": [
      "20\n",
      "40\n",
      "2\n"
     ]
    }
   ],
   "source": [
    "arr = np.array([10, 20, 30, 40])\n",
    "print(arr[1])    \n",
    "print(arr[-1])    \n",
    "\n",
    "arr2 = np.array([[1, 2], [3, 4]])\n",
    "print(arr2[0][1]) "
   ]
  },
  {
   "cell_type": "code",
   "execution_count": null,
   "id": "ccf8166b",
   "metadata": {},
   "outputs": [
    {
     "name": "stdout",
     "output_type": "stream",
     "text": [
      "[[1 2 3]\n",
      " [4 5 6]\n",
      " [7 8 9]]\n"
     ]
    }
   ],
   "source": [
    "a = np.arange(1, 10)\n",
    "b = a.reshape(3, 3)          \n",
    "print(b)"
   ]
  },
  {
   "cell_type": "code",
   "execution_count": null,
   "id": "c4b26d81",
   "metadata": {},
   "outputs": [
    {
     "name": "stdout",
     "output_type": "stream",
     "text": [
      "[5 7 9]\n",
      "[-3 -3 -3]\n",
      "[ 4 10 18]\n",
      "[0.25 0.4  0.5 ]\n",
      "[1 4 9]\n"
     ]
    }
   ],
   "source": [
    "x = np.array([1, 2, 3])\n",
    "y = np.array([4, 5, 6])\n",
    "\n",
    "print(x + y)     \n",
    "print(x - y)     \n",
    "print(x * y)     \n",
    "print(x / y)     \n",
    "print(x ** 2)    "
   ]
  },
  {
   "cell_type": "code",
   "execution_count": null,
   "id": "17aeb005",
   "metadata": {},
   "outputs": [
    {
     "name": "stdout",
     "output_type": "stream",
     "text": [
      "4\n",
      "0\n",
      "[0.   0.25 0.5  0.75 1.  ]\n",
      "[ 2  4 -5  7]\n"
     ]
    }
   ],
   "source": [
    "arr = np.array([1, 3, 7, 2, 9])\n",
    "\n",
    "print(np.argmax(arr))  \n",
    "print(np.argmin(arr))   \n",
    "print(np.linspace(0, 1, 5))  \n",
    "print(np.diff(arr))     "
   ]
  },
  {
   "cell_type": "code",
   "execution_count": null,
   "id": "9a6578bd",
   "metadata": {},
   "outputs": [
    {
     "name": "stdout",
     "output_type": "stream",
     "text": [
      "[5 7 9]\n",
      "[-3 -3 -3]\n",
      "[ 4 10 18]\n",
      "[0.25 0.4  0.5 ]\n",
      "[1 4 9]\n"
     ]
    }
   ],
   "source": [
    "x = np.array([1, 2, 3])\n",
    "y = np.array([4, 5, 6])\n",
    "\n",
    "print(x + y)     \n",
    "print(x - y)     \n",
    "print(x * y)     \n",
    "print(x / y)     \n",
    "print(x ** 2)    "
   ]
  },
  {
   "cell_type": "code",
   "execution_count": null,
   "id": "22e7eebc",
   "metadata": {},
   "outputs": [
    {
     "name": "stdout",
     "output_type": "stream",
     "text": [
      "4\n",
      "0\n",
      "[0.   0.25 0.5  0.75 1.  ]\n",
      "[ 2  4 -5  7]\n"
     ]
    }
   ],
   "source": [
    "arr = np.array([1, 3, 7, 2, 9])\n",
    "\n",
    "print(np.argmax(arr))   \n",
    "print(np.argmin(arr))  \n",
    "print(np.linspace(0, 1, 5))  \n",
    "print(np.diff(arr))     "
   ]
  },
  {
   "cell_type": "code",
   "execution_count": null,
   "id": "5a0826bd",
   "metadata": {},
   "outputs": [
    {
     "name": "stdout",
     "output_type": "stream",
     "text": [
      "4\n",
      "0\n",
      "[0.   0.25 0.5  0.75 1.  ]\n",
      "[ 2  4 -5  7]\n"
     ]
    }
   ],
   "source": [
    "#self learning topic\n",
    "arr = np.array([1, 3, 7, 2, 9])\n",
    "\n",
    "print(np.argmax(arr))   \n",
    "print(np.argmin(arr))  \n",
    "print(np.linspace(0, 1, 5))  \n",
    "print(np.diff(arr))     \n"
   ]
  },
  {
   "cell_type": "code",
   "execution_count": null,
   "id": "8ae418f3",
   "metadata": {},
   "outputs": [
    {
     "name": "stdout",
     "output_type": "stream",
     "text": [
      "2\n",
      "6\n"
     ]
    }
   ],
   "source": [
    "#self learning topic\n",
    "arr = np.array([[1, 2, 3], [4, 5, 6]])\n",
    "print(arr.ndim)     \n",
    "print(arr.size)"
   ]
  }
 ],
 "metadata": {
  "kernelspec": {
   "display_name": "Python 3",
   "language": "python",
   "name": "python3"
  },
  "language_info": {
   "codemirror_mode": {
    "name": "ipython",
    "version": 3
   },
   "file_extension": ".py",
   "mimetype": "text/x-python",
   "name": "python",
   "nbconvert_exporter": "python",
   "pygments_lexer": "ipython3",
   "version": "3.13.5"
  }
 },
 "nbformat": 4,
 "nbformat_minor": 5
}
