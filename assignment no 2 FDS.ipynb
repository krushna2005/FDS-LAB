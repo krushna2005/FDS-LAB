{
 "cells": [
  {
   "cell_type": "code",
   "execution_count": 10,
   "id": "96ab012d",
   "metadata": {},
   "outputs": [
    {
     "name": "stdout",
     "output_type": "stream",
     "text": [
      "Pandas Series:\n",
      "a    18\n",
      "b    45\n",
      "c     7\n",
      "d    14\n",
      "e    17\n",
      "dtype: int64\n",
      "\n",
      "Access single value: 7\n"
     ]
    }
   ],
   "source": [
    "\n",
    "import pandas as pd\n",
    "\n",
    "\n",
    "s = pd.Series([18,45,7,14,17], index=['a','b','c','d','e'])\n",
    "\n",
    "print(\"Pandas Series:\")\n",
    "print(s)\n",
    "print(\"\\nAccess single value:\", s['c'])\n"
   ]
  },
  {
   "cell_type": "code",
   "execution_count": 11,
   "id": "080df972",
   "metadata": {},
   "outputs": [
    {
     "data": {
      "text/plain": [
       "pandas.core.series.Series"
      ]
     },
     "execution_count": 11,
     "metadata": {},
     "output_type": "execute_result"
    }
   ],
   "source": [
    "type(s)"
   ]
  },
  {
   "cell_type": "code",
   "execution_count": 12,
   "id": "06bb780c",
   "metadata": {},
   "outputs": [
    {
     "name": "stdout",
     "output_type": "stream",
     "text": [
      "Pandas DataFrame:\n",
      "    Name  Age  Marks\n",
      "0   Amit   21     88\n",
      "1   Riya   20     92\n",
      "2  Karan   23     76\n",
      "\n",
      "Access single column (as Series):\n",
      "0    88\n",
      "1    92\n",
      "2    76\n",
      "Name: Marks, dtype: int64\n"
     ]
    }
   ],
   "source": [
    "\n",
    "data = {\n",
    "    'Name': ['Amit', 'Riya', 'Karan'],\n",
    "    'Age': [21, 20, 23],\n",
    "    'Marks': [88, 92, 76]\n",
    "}\n",
    "\n",
    "df = pd.DataFrame(data)\n",
    "\n",
    "print(\"Pandas DataFrame:\")\n",
    "print(df)\n",
    "print(\"\\nAccess single column (as Series):\")\n",
    "print(df['Marks'])"
   ]
  },
  {
   "cell_type": "code",
   "execution_count": 13,
   "id": "b1514b45",
   "metadata": {},
   "outputs": [
    {
     "data": {
      "text/plain": [
       "pandas.core.frame.DataFrame"
      ]
     },
     "execution_count": 13,
     "metadata": {},
     "output_type": "execute_result"
    }
   ],
   "source": [
    "type(df)"
   ]
  },
  {
   "cell_type": "code",
   "execution_count": 14,
   "id": "a49d8447",
   "metadata": {},
   "outputs": [
    {
     "data": {
      "text/html": [
       "<div>\n",
       "<style scoped>\n",
       "    .dataframe tbody tr th:only-of-type {\n",
       "        vertical-align: middle;\n",
       "    }\n",
       "\n",
       "    .dataframe tbody tr th {\n",
       "        vertical-align: top;\n",
       "    }\n",
       "\n",
       "    .dataframe thead th {\n",
       "        text-align: right;\n",
       "    }\n",
       "</style>\n",
       "<table border=\"1\" class=\"dataframe\">\n",
       "  <thead>\n",
       "    <tr style=\"text-align: right;\">\n",
       "      <th></th>\n",
       "      <th>UserID</th>\n",
       "      <th>Age</th>\n",
       "      <th>Gender</th>\n",
       "      <th>Country</th>\n",
       "      <th>Device</th>\n",
       "      <th>GameGenre</th>\n",
       "      <th>SessionCount</th>\n",
       "      <th>AverageSessionLength</th>\n",
       "      <th>SpendingSegment</th>\n",
       "      <th>InAppPurchaseAmount</th>\n",
       "      <th>FirstPurchaseDaysAfterInstall</th>\n",
       "      <th>PaymentMethod</th>\n",
       "      <th>LastPurchaseDate</th>\n",
       "    </tr>\n",
       "  </thead>\n",
       "  <tbody>\n",
       "    <tr>\n",
       "      <th>0</th>\n",
       "      <td>c9889ab0-9cfc-4a75-acd9-5eab1df0015c</td>\n",
       "      <td>49.0</td>\n",
       "      <td>Male</td>\n",
       "      <td>Norway</td>\n",
       "      <td>Android</td>\n",
       "      <td>Battle Royale</td>\n",
       "      <td>9</td>\n",
       "      <td>12.83</td>\n",
       "      <td>Minnow</td>\n",
       "      <td>11.40</td>\n",
       "      <td>28.0</td>\n",
       "      <td>Apple Pay</td>\n",
       "      <td>2025-03-19</td>\n",
       "    </tr>\n",
       "    <tr>\n",
       "      <th>1</th>\n",
       "      <td>7c9e413c-ecca-45f2-a780-2826a07952a2</td>\n",
       "      <td>15.0</td>\n",
       "      <td>Male</td>\n",
       "      <td>Switzerland</td>\n",
       "      <td>iOS</td>\n",
       "      <td>Action RPG</td>\n",
       "      <td>11</td>\n",
       "      <td>19.39</td>\n",
       "      <td>Minnow</td>\n",
       "      <td>6.37</td>\n",
       "      <td>18.0</td>\n",
       "      <td>Debit Card</td>\n",
       "      <td>2025-06-08</td>\n",
       "    </tr>\n",
       "    <tr>\n",
       "      <th>2</th>\n",
       "      <td>fd61e419-1a92-4f43-a8c7-135842ad328a</td>\n",
       "      <td>23.0</td>\n",
       "      <td>Male</td>\n",
       "      <td>China</td>\n",
       "      <td>Android</td>\n",
       "      <td>Fighting</td>\n",
       "      <td>9</td>\n",
       "      <td>8.87</td>\n",
       "      <td>Minnow</td>\n",
       "      <td>15.81</td>\n",
       "      <td>30.0</td>\n",
       "      <td>Apple Pay</td>\n",
       "      <td>2025-06-02</td>\n",
       "    </tr>\n",
       "    <tr>\n",
       "      <th>3</th>\n",
       "      <td>bdb7f6d1-ff9a-468c-afe7-43f32a94293e</td>\n",
       "      <td>31.0</td>\n",
       "      <td>Male</td>\n",
       "      <td>Mexico</td>\n",
       "      <td>Android</td>\n",
       "      <td>Racing</td>\n",
       "      <td>12</td>\n",
       "      <td>19.56</td>\n",
       "      <td>Minnow</td>\n",
       "      <td>13.49</td>\n",
       "      <td>9.0</td>\n",
       "      <td>Debit Card</td>\n",
       "      <td>2025-04-01</td>\n",
       "    </tr>\n",
       "    <tr>\n",
       "      <th>4</th>\n",
       "      <td>aa7eec14-4846-47b9-b879-9c98038cda04</td>\n",
       "      <td>37.0</td>\n",
       "      <td>Female</td>\n",
       "      <td>India</td>\n",
       "      <td>Android</td>\n",
       "      <td>Battle Royale</td>\n",
       "      <td>10</td>\n",
       "      <td>15.23</td>\n",
       "      <td>Minnow</td>\n",
       "      <td>10.86</td>\n",
       "      <td>15.0</td>\n",
       "      <td>Paypal</td>\n",
       "      <td>2025-05-05</td>\n",
       "    </tr>\n",
       "    <tr>\n",
       "      <th>...</th>\n",
       "      <td>...</td>\n",
       "      <td>...</td>\n",
       "      <td>...</td>\n",
       "      <td>...</td>\n",
       "      <td>...</td>\n",
       "      <td>...</td>\n",
       "      <td>...</td>\n",
       "      <td>...</td>\n",
       "      <td>...</td>\n",
       "      <td>...</td>\n",
       "      <td>...</td>\n",
       "      <td>...</td>\n",
       "      <td>...</td>\n",
       "    </tr>\n",
       "    <tr>\n",
       "      <th>3019</th>\n",
       "      <td>29f9fea9-591d-4e9f-a662-958655d3eb4a</td>\n",
       "      <td>19.0</td>\n",
       "      <td>Female</td>\n",
       "      <td>Iran</td>\n",
       "      <td>Android</td>\n",
       "      <td>Fighting</td>\n",
       "      <td>7</td>\n",
       "      <td>34.81</td>\n",
       "      <td>Minnow</td>\n",
       "      <td>12.48</td>\n",
       "      <td>16.0</td>\n",
       "      <td>Google Pay</td>\n",
       "      <td>2025-05-28</td>\n",
       "    </tr>\n",
       "    <tr>\n",
       "      <th>3020</th>\n",
       "      <td>c906eb00-fb33-4bf2-97a4-311634cd0d7a</td>\n",
       "      <td>48.0</td>\n",
       "      <td>Male</td>\n",
       "      <td>Switzerland</td>\n",
       "      <td>iOS</td>\n",
       "      <td>Adventure</td>\n",
       "      <td>9</td>\n",
       "      <td>19.45</td>\n",
       "      <td>Minnow</td>\n",
       "      <td>14.77</td>\n",
       "      <td>14.0</td>\n",
       "      <td>Carrier Billing</td>\n",
       "      <td>2025-07-25</td>\n",
       "    </tr>\n",
       "    <tr>\n",
       "      <th>3021</th>\n",
       "      <td>26e17717-ebec-42a9-aae2-2eff66888119</td>\n",
       "      <td>44.0</td>\n",
       "      <td>Male</td>\n",
       "      <td>France</td>\n",
       "      <td>Android</td>\n",
       "      <td>Card</td>\n",
       "      <td>15</td>\n",
       "      <td>20.54</td>\n",
       "      <td>Minnow</td>\n",
       "      <td>16.69</td>\n",
       "      <td>24.0</td>\n",
       "      <td>Gift Card</td>\n",
       "      <td>2025-01-25</td>\n",
       "    </tr>\n",
       "    <tr>\n",
       "      <th>3022</th>\n",
       "      <td>4d6e2bfb-cb11-411a-942c-4fb7a4832088</td>\n",
       "      <td>45.0</td>\n",
       "      <td>Male</td>\n",
       "      <td>Sweden</td>\n",
       "      <td>iOS</td>\n",
       "      <td>Fighting</td>\n",
       "      <td>8</td>\n",
       "      <td>14.48</td>\n",
       "      <td>Minnow</td>\n",
       "      <td>17.29</td>\n",
       "      <td>15.0</td>\n",
       "      <td>Paypal</td>\n",
       "      <td>2025-05-07</td>\n",
       "    </tr>\n",
       "    <tr>\n",
       "      <th>3023</th>\n",
       "      <td>37935b2e-9b5d-4a30-bf0f-751d105e31e3</td>\n",
       "      <td>22.0</td>\n",
       "      <td>Male</td>\n",
       "      <td>Egypt</td>\n",
       "      <td>Android</td>\n",
       "      <td>Adventure</td>\n",
       "      <td>10</td>\n",
       "      <td>28.54</td>\n",
       "      <td>Minnow</td>\n",
       "      <td>4.11</td>\n",
       "      <td>30.0</td>\n",
       "      <td>Carrier Billing</td>\n",
       "      <td>2025-07-06</td>\n",
       "    </tr>\n",
       "  </tbody>\n",
       "</table>\n",
       "<p>3024 rows × 13 columns</p>\n",
       "</div>"
      ],
      "text/plain": [
       "                                    UserID   Age  Gender      Country  \\\n",
       "0     c9889ab0-9cfc-4a75-acd9-5eab1df0015c  49.0    Male       Norway   \n",
       "1     7c9e413c-ecca-45f2-a780-2826a07952a2  15.0    Male  Switzerland   \n",
       "2     fd61e419-1a92-4f43-a8c7-135842ad328a  23.0    Male        China   \n",
       "3     bdb7f6d1-ff9a-468c-afe7-43f32a94293e  31.0    Male       Mexico   \n",
       "4     aa7eec14-4846-47b9-b879-9c98038cda04  37.0  Female        India   \n",
       "...                                    ...   ...     ...          ...   \n",
       "3019  29f9fea9-591d-4e9f-a662-958655d3eb4a  19.0  Female         Iran   \n",
       "3020  c906eb00-fb33-4bf2-97a4-311634cd0d7a  48.0    Male  Switzerland   \n",
       "3021  26e17717-ebec-42a9-aae2-2eff66888119  44.0    Male       France   \n",
       "3022  4d6e2bfb-cb11-411a-942c-4fb7a4832088  45.0    Male       Sweden   \n",
       "3023  37935b2e-9b5d-4a30-bf0f-751d105e31e3  22.0    Male        Egypt   \n",
       "\n",
       "       Device      GameGenre  SessionCount  AverageSessionLength  \\\n",
       "0     Android  Battle Royale             9                 12.83   \n",
       "1         iOS     Action RPG            11                 19.39   \n",
       "2     Android       Fighting             9                  8.87   \n",
       "3     Android         Racing            12                 19.56   \n",
       "4     Android  Battle Royale            10                 15.23   \n",
       "...       ...            ...           ...                   ...   \n",
       "3019  Android       Fighting             7                 34.81   \n",
       "3020      iOS      Adventure             9                 19.45   \n",
       "3021  Android           Card            15                 20.54   \n",
       "3022      iOS       Fighting             8                 14.48   \n",
       "3023  Android      Adventure            10                 28.54   \n",
       "\n",
       "     SpendingSegment  InAppPurchaseAmount  FirstPurchaseDaysAfterInstall  \\\n",
       "0             Minnow                11.40                           28.0   \n",
       "1             Minnow                 6.37                           18.0   \n",
       "2             Minnow                15.81                           30.0   \n",
       "3             Minnow                13.49                            9.0   \n",
       "4             Minnow                10.86                           15.0   \n",
       "...              ...                  ...                            ...   \n",
       "3019          Minnow                12.48                           16.0   \n",
       "3020          Minnow                14.77                           14.0   \n",
       "3021          Minnow                16.69                           24.0   \n",
       "3022          Minnow                17.29                           15.0   \n",
       "3023          Minnow                 4.11                           30.0   \n",
       "\n",
       "        PaymentMethod LastPurchaseDate  \n",
       "0           Apple Pay       2025-03-19  \n",
       "1          Debit Card       2025-06-08  \n",
       "2           Apple Pay       2025-06-02  \n",
       "3          Debit Card       2025-04-01  \n",
       "4              Paypal       2025-05-05  \n",
       "...               ...              ...  \n",
       "3019       Google Pay       2025-05-28  \n",
       "3020  Carrier Billing       2025-07-25  \n",
       "3021        Gift Card       2025-01-25  \n",
       "3022           Paypal       2025-05-07  \n",
       "3023  Carrier Billing       2025-07-06  \n",
       "\n",
       "[3024 rows x 13 columns]"
      ]
     },
     "execution_count": 14,
     "metadata": {},
     "output_type": "execute_result"
    }
   ],
   "source": [
    "#for information only\n",
    "pd.read_csv(\"C:/Users/krush/OneDrive/Desktop/Python/.venv/mobile_game_inapp_purchases.csv\")         \n"
   ]
  },
  {
   "cell_type": "code",
   "execution_count": 15,
   "id": "0283fc16",
   "metadata": {},
   "outputs": [
    {
     "name": "stdout",
     "output_type": "stream",
     "text": [
      "<class 'pandas.core.frame.DataFrame'>\n",
      "RangeIndex: 3 entries, 0 to 2\n",
      "Data columns (total 3 columns):\n",
      " #   Column  Non-Null Count  Dtype \n",
      "---  ------  --------------  ----- \n",
      " 0   Name    3 non-null      object\n",
      " 1   Age     3 non-null      int64 \n",
      " 2   Marks   3 non-null      int64 \n",
      "dtypes: int64(2), object(1)\n",
      "memory usage: 204.0+ bytes\n"
     ]
    }
   ],
   "source": [
    "df.info()  "
   ]
  },
  {
   "cell_type": "code",
   "execution_count": 16,
   "id": "bb2bfa5b",
   "metadata": {},
   "outputs": [
    {
     "data": {
      "text/plain": [
       "Name     object\n",
       "Age       int64\n",
       "Marks     int64\n",
       "dtype: object"
      ]
     },
     "execution_count": 16,
     "metadata": {},
     "output_type": "execute_result"
    }
   ],
   "source": [
    "df.dtypes"
   ]
  },
  {
   "cell_type": "code",
   "execution_count": 17,
   "id": "f9fcd9b4",
   "metadata": {},
   "outputs": [
    {
     "data": {
      "text/plain": [
       "Name     object\n",
       "Age       int64\n",
       "Marks     int64\n",
       "dtype: object"
      ]
     },
     "execution_count": 17,
     "metadata": {},
     "output_type": "execute_result"
    }
   ],
   "source": [
    "df.dtypes"
   ]
  },
  {
   "cell_type": "code",
   "execution_count": 18,
   "id": "a09f9148",
   "metadata": {},
   "outputs": [],
   "source": [
    "df = pd.read_csv(\"mobile_game_inapp_purchases.csv\")"
   ]
  },
  {
   "cell_type": "code",
   "execution_count": 19,
   "id": "f3ca2f05",
   "metadata": {},
   "outputs": [
    {
     "name": "stdout",
     "output_type": "stream",
     "text": [
      "0    49.0\n",
      "1    15.0\n",
      "2    23.0\n",
      "3    31.0\n",
      "4    37.0\n",
      "Name: Age, dtype: float64\n"
     ]
    }
   ],
   "source": [
    "ages = df[\"Age\"]\n",
    "print(ages.head())"
   ]
  },
  {
   "cell_type": "code",
   "execution_count": 20,
   "id": "41f2768a",
   "metadata": {},
   "outputs": [
    {
     "name": "stdout",
     "output_type": "stream",
     "text": [
      "Shape: (3024,)\n",
      "Data type: float64\n",
      "Unique values: [49. 15. 23. 31. 37. 38. 20. 34. 46. 29. 30. 24. 21. 35. 45. 14. 47. 54.\n",
      " 52. 25. 51. 18. nan 32. 43. 17. 19. 16. 36. 48. 50. 33. 44. 40. 26. 13.\n",
      " 42. 28. 39. 22. 53. 27. 41.]\n",
      "First 5 values:\n",
      " 0    49.0\n",
      "1    15.0\n",
      "2    23.0\n",
      "3    31.0\n",
      "4    37.0\n",
      "Name: Age, dtype: float64\n",
      "Last 5 values:\n",
      " 3019    19.0\n",
      "3020    48.0\n",
      "3021    44.0\n",
      "3022    45.0\n",
      "3023    22.0\n",
      "Name: Age, dtype: float64\n"
     ]
    }
   ],
   "source": [
    "print(\"Shape:\", ages.shape)           # number of elements\n",
    "print(\"Data type:\", ages.dtype)       # type of values\n",
    "print(\"Unique values:\", ages.unique())# unique values\n",
    "print(\"First 5 values:\\n\", ages.head())\n",
    "print(\"Last 5 values:\\n\", ages.tail())"
   ]
  },
  {
   "cell_type": "code",
   "execution_count": 21,
   "id": "63722dd2",
   "metadata": {},
   "outputs": [
    {
     "name": "stdout",
     "output_type": "stream",
     "text": [
      "Mean age: 33.53373819163293\n",
      "Max age: 54.0\n",
      "Min age: 13.0\n"
     ]
    }
   ],
   "source": [
    "print(\"Mean age:\", ages.mean())\n",
    "print(\"Max age:\", ages.max())\n",
    "print(\"Min age:\", ages.min())"
   ]
  },
  {
   "cell_type": "code",
   "execution_count": 22,
   "id": "f7019b8c",
   "metadata": {},
   "outputs": [],
   "source": [
    "purchase_amounts = df[\"InAppPurchaseAmount\"]"
   ]
  },
  {
   "cell_type": "code",
   "execution_count": 23,
   "id": "54e33e0e",
   "metadata": {},
   "outputs": [
    {
     "name": "stdout",
     "output_type": "stream",
     "text": [
      "Average purchase: 102.58286357340722\n",
      "Non-null purchases: 2888\n"
     ]
    }
   ],
   "source": [
    "print(\"Average purchase:\", purchase_amounts.mean())\n",
    "print(\"Non-null purchases:\", purchase_amounts.count())\n"
   ]
  },
  {
   "cell_type": "code",
   "execution_count": 24,
   "id": "089af33a",
   "metadata": {},
   "outputs": [
    {
     "name": "stdout",
     "output_type": "stream",
     "text": [
      "Users under 20:\n",
      " 1     15.0\n",
      "18    14.0\n",
      "21    14.0\n",
      "28    18.0\n",
      "39    17.0\n",
      "Name: Age, dtype: float64\n"
     ]
    }
   ],
   "source": [
    "under_20 = ages[ages < 20]\n",
    "print(\"Users under 20:\\n\", under_20.head())"
   ]
  },
  {
   "cell_type": "code",
   "execution_count": 25,
   "id": "ea65a7dd",
   "metadata": {},
   "outputs": [
    {
     "name": "stdout",
     "output_type": "stream",
     "text": [
      "Head:\n",
      "                                  UserID   Age  Gender      Country   Device  \\\n",
      "0  c9889ab0-9cfc-4a75-acd9-5eab1df0015c  49.0    Male       Norway  Android   \n",
      "1  7c9e413c-ecca-45f2-a780-2826a07952a2  15.0    Male  Switzerland      iOS   \n",
      "2  fd61e419-1a92-4f43-a8c7-135842ad328a  23.0    Male        China  Android   \n",
      "3  bdb7f6d1-ff9a-468c-afe7-43f32a94293e  31.0    Male       Mexico  Android   \n",
      "4  aa7eec14-4846-47b9-b879-9c98038cda04  37.0  Female        India  Android   \n",
      "\n",
      "       GameGenre  SessionCount  AverageSessionLength SpendingSegment  \\\n",
      "0  Battle Royale             9                 12.83          Minnow   \n",
      "1     Action RPG            11                 19.39          Minnow   \n",
      "2       Fighting             9                  8.87          Minnow   \n",
      "3         Racing            12                 19.56          Minnow   \n",
      "4  Battle Royale            10                 15.23          Minnow   \n",
      "\n",
      "   InAppPurchaseAmount  FirstPurchaseDaysAfterInstall PaymentMethod  \\\n",
      "0                11.40                           28.0     Apple Pay   \n",
      "1                 6.37                           18.0    Debit Card   \n",
      "2                15.81                           30.0     Apple Pay   \n",
      "3                13.49                            9.0    Debit Card   \n",
      "4                10.86                           15.0        Paypal   \n",
      "\n",
      "  LastPurchaseDate  \n",
      "0       2025-03-19  \n",
      "1       2025-06-08  \n",
      "2       2025-06-02  \n",
      "3       2025-04-01  \n",
      "4       2025-05-05   \n",
      "\n"
     ]
    }
   ],
   "source": [
    "print(\"Head:\\n\", df.head(), \"\\n\")"
   ]
  },
  {
   "cell_type": "code",
   "execution_count": 26,
   "id": "2526924d",
   "metadata": {},
   "outputs": [
    {
     "name": "stdout",
     "output_type": "stream",
     "text": [
      "Tail:\n",
      "                                     UserID   Age  Gender      Country  \\\n",
      "3019  29f9fea9-591d-4e9f-a662-958655d3eb4a  19.0  Female         Iran   \n",
      "3020  c906eb00-fb33-4bf2-97a4-311634cd0d7a  48.0    Male  Switzerland   \n",
      "3021  26e17717-ebec-42a9-aae2-2eff66888119  44.0    Male       France   \n",
      "3022  4d6e2bfb-cb11-411a-942c-4fb7a4832088  45.0    Male       Sweden   \n",
      "3023  37935b2e-9b5d-4a30-bf0f-751d105e31e3  22.0    Male        Egypt   \n",
      "\n",
      "       Device  GameGenre  SessionCount  AverageSessionLength SpendingSegment  \\\n",
      "3019  Android   Fighting             7                 34.81          Minnow   \n",
      "3020      iOS  Adventure             9                 19.45          Minnow   \n",
      "3021  Android       Card            15                 20.54          Minnow   \n",
      "3022      iOS   Fighting             8                 14.48          Minnow   \n",
      "3023  Android  Adventure            10                 28.54          Minnow   \n",
      "\n",
      "      InAppPurchaseAmount  FirstPurchaseDaysAfterInstall    PaymentMethod  \\\n",
      "3019                12.48                           16.0       Google Pay   \n",
      "3020                14.77                           14.0  Carrier Billing   \n",
      "3021                16.69                           24.0        Gift Card   \n",
      "3022                17.29                           15.0           Paypal   \n",
      "3023                 4.11                           30.0  Carrier Billing   \n",
      "\n",
      "     LastPurchaseDate  \n",
      "3019       2025-05-28  \n",
      "3020       2025-07-25  \n",
      "3021       2025-01-25  \n",
      "3022       2025-05-07  \n",
      "3023       2025-07-06   \n",
      "\n"
     ]
    }
   ],
   "source": [
    "print(\"Tail:\\n\", df.tail(), \"\\n\")"
   ]
  },
  {
   "cell_type": "code",
   "execution_count": 27,
   "id": "d50e5b39",
   "metadata": {},
   "outputs": [
    {
     "name": "stdout",
     "output_type": "stream",
     "text": [
      "Shape: (3024, 13) \n",
      "\n"
     ]
    }
   ],
   "source": [
    "print(\"Shape:\", df.shape, \"\\n\")\n"
   ]
  },
  {
   "cell_type": "code",
   "execution_count": 28,
   "id": "b582d1f2",
   "metadata": {},
   "outputs": [
    {
     "name": "stdout",
     "output_type": "stream",
     "text": [
      "Columns: Index(['UserID', 'Age', 'Gender', 'Country', 'Device', 'GameGenre',\n",
      "       'SessionCount', 'AverageSessionLength', 'SpendingSegment',\n",
      "       'InAppPurchaseAmount', 'FirstPurchaseDaysAfterInstall', 'PaymentMethod',\n",
      "       'LastPurchaseDate'],\n",
      "      dtype='object') \n",
      "\n"
     ]
    }
   ],
   "source": [
    "print(\"Columns:\", df.columns, \"\\n\")"
   ]
  },
  {
   "cell_type": "code",
   "execution_count": 29,
   "id": "58a08dbf",
   "metadata": {},
   "outputs": [
    {
     "name": "stdout",
     "output_type": "stream",
     "text": [
      "Data types:\n",
      " UserID                            object\n",
      "Age                              float64\n",
      "Gender                            object\n",
      "Country                           object\n",
      "Device                            object\n",
      "GameGenre                         object\n",
      "SessionCount                       int64\n",
      "AverageSessionLength             float64\n",
      "SpendingSegment                   object\n",
      "InAppPurchaseAmount              float64\n",
      "FirstPurchaseDaysAfterInstall    float64\n",
      "PaymentMethod                     object\n",
      "LastPurchaseDate                  object\n",
      "dtype: object \n",
      "\n"
     ]
    }
   ],
   "source": [
    "print(\"Data types:\\n\", df.dtypes, \"\\n\")"
   ]
  },
  {
   "cell_type": "code",
   "execution_count": 30,
   "id": "c14f02e1",
   "metadata": {},
   "outputs": [
    {
     "name": "stdout",
     "output_type": "stream",
     "text": [
      "Describe:\n",
      "                Age  SessionCount  AverageSessionLength  InAppPurchaseAmount  \\\n",
      "count  2964.000000   3024.000000           3024.000000          2888.000000   \n",
      "mean     33.533738     10.074735             20.073978           102.582864   \n",
      "std      11.992258      3.115863              8.585208           454.339708   \n",
      "min      13.000000      1.000000              5.010000             0.000000   \n",
      "25%      23.000000      8.000000             12.680000             5.987500   \n",
      "50%      33.000000     10.000000             20.315000            11.975000   \n",
      "75%      44.000000     12.000000             27.420000            17.762500   \n",
      "max      54.000000     22.000000             34.990000          4964.450000   \n",
      "\n",
      "       FirstPurchaseDaysAfterInstall  \n",
      "count                    2888.000000  \n",
      "mean                       15.384003  \n",
      "std                         8.946191  \n",
      "min                         0.000000  \n",
      "25%                         8.000000  \n",
      "50%                        16.000000  \n",
      "75%                        23.000000  \n",
      "max                        30.000000   \n",
      "\n"
     ]
    }
   ],
   "source": [
    "print(\"Describe:\\n\", df.describe(), \"\\n\")"
   ]
  },
  {
   "cell_type": "code",
   "execution_count": 31,
   "id": "1dfb240b",
   "metadata": {},
   "outputs": [
    {
     "name": "stdout",
     "output_type": "stream",
     "text": [
      "Info:\n",
      "<class 'pandas.core.frame.DataFrame'>\n",
      "RangeIndex: 3024 entries, 0 to 3023\n",
      "Data columns (total 13 columns):\n",
      " #   Column                         Non-Null Count  Dtype  \n",
      "---  ------                         --------------  -----  \n",
      " 0   UserID                         3024 non-null   object \n",
      " 1   Age                            2964 non-null   float64\n",
      " 2   Gender                         2964 non-null   object \n",
      " 3   Country                        2964 non-null   object \n",
      " 4   Device                         2964 non-null   object \n",
      " 5   GameGenre                      2964 non-null   object \n",
      " 6   SessionCount                   3024 non-null   int64  \n",
      " 7   AverageSessionLength           3024 non-null   float64\n",
      " 8   SpendingSegment                3024 non-null   object \n",
      " 9   InAppPurchaseAmount            2888 non-null   float64\n",
      " 10  FirstPurchaseDaysAfterInstall  2888 non-null   float64\n",
      " 11  PaymentMethod                  2888 non-null   object \n",
      " 12  LastPurchaseDate               2888 non-null   object \n",
      "dtypes: float64(4), int64(1), object(8)\n",
      "memory usage: 307.3+ KB\n",
      "None \n",
      "\n"
     ]
    }
   ],
   "source": [
    "print(\"Info:\")\n",
    "print(df.info(), \"\\n\")"
   ]
  },
  {
   "cell_type": "code",
   "execution_count": 32,
   "id": "49a67264",
   "metadata": {},
   "outputs": [
    {
     "name": "stdout",
     "output_type": "stream",
     "text": [
      "Age column as Series:\n",
      " 0    49.0\n",
      "1    15.0\n",
      "2    23.0\n",
      "3    31.0\n",
      "4    37.0\n",
      "Name: Age, dtype: float64 \n",
      "\n"
     ]
    }
   ],
   "source": [
    "ages = df[\"Age\"]\n",
    "print(\"Age column as Series:\\n\", ages.head(), \"\\n\")"
   ]
  },
  {
   "cell_type": "code",
   "execution_count": 33,
   "id": "b7b8ed23",
   "metadata": {},
   "outputs": [
    {
     "name": "stdout",
     "output_type": "stream",
     "text": [
      "Age column as Series:\n",
      " 0    49.0\n",
      "1    15.0\n",
      "2    23.0\n",
      "3    31.0\n",
      "4    37.0\n",
      "Name: Age, dtype: float64 \n",
      "\n"
     ]
    }
   ],
   "source": [
    "ages = df[\"Age\"]\n",
    "print(\"Age column as Series:\\n\", ages.head(), \"\\n\")"
   ]
  },
  {
   "cell_type": "code",
   "execution_count": 35,
   "id": "bc45beee",
   "metadata": {},
   "outputs": [
    {
     "name": "stdout",
     "output_type": "stream",
     "text": [
      "Name + Country columns:\n",
      "        Country   Device\n",
      "0       Norway  Android\n",
      "1  Switzerland      iOS\n",
      "2        China  Android\n",
      "3       Mexico  Android\n",
      "4        India  Android \n",
      "\n"
     ]
    }
   ],
   "source": [
    "print(\"Name + Country columns:\\n\", df[[\"Country\", \"Device\"]].head(), \"\\n\")"
   ]
  },
  {
   "cell_type": "code",
   "execution_count": 36,
   "id": "085e8fa6",
   "metadata": {},
   "outputs": [
    {
     "name": "stdout",
     "output_type": "stream",
     "text": [
      "Users under 20:\n",
      "                                   UserID   Age  Gender       Country   Device  \\\n",
      "1   7c9e413c-ecca-45f2-a780-2826a07952a2  15.0    Male   Switzerland      iOS   \n",
      "18  784fa153-301d-4286-adf5-3459e04e8a97  14.0  Female     Sri Lanka      iOS   \n",
      "21  d17030c2-e861-4028-aa03-23b18d239a40  14.0    Male         Japan      iOS   \n",
      "28  03e7dc1d-dfe5-4677-aff4-239b6a60ad7c  18.0    Male   Switzerland  Android   \n",
      "39  609ec77e-7c64-4486-a77d-da39f5e21576  17.0    Male  Saudi Arabia  Android   \n",
      "\n",
      "     GameGenre  SessionCount  AverageSessionLength SpendingSegment  \\\n",
      "1   Action RPG            11                 19.39          Minnow   \n",
      "18      Racing            10                 33.44           Whale   \n",
      "21      Puzzle             9                 15.49           Whale   \n",
      "28      Casual             5                 21.01         Dolphin   \n",
      "39     Sandbox             8                 29.44         Dolphin   \n",
      "\n",
      "    InAppPurchaseAmount  FirstPurchaseDaysAfterInstall    PaymentMethod  \\\n",
      "1                  6.37                           18.0       Debit Card   \n",
      "18              3454.51                           22.0  Carrier Billing   \n",
      "21              4302.61                           30.0      Credit Card   \n",
      "28               356.98                           18.0       Google Pay   \n",
      "39               276.54                           11.0      Credit Card   \n",
      "\n",
      "   LastPurchaseDate  \n",
      "1        2025-06-08  \n",
      "18       2025-01-01  \n",
      "21       2025-04-08  \n",
      "28       2025-08-02  \n",
      "39       2025-01-28   \n",
      "\n"
     ]
    }
   ],
   "source": [
    "print(\"Users under 20:\\n\", df[df[\"Age\"] < 20].head(), \"\\n\")"
   ]
  },
  {
   "cell_type": "code",
   "execution_count": 37,
   "id": "c7715f17",
   "metadata": {},
   "outputs": [
    {
     "name": "stdout",
     "output_type": "stream",
     "text": [
      "Top spenders:\n",
      "                                     UserID   Age Gender      Country   Device  \\\n",
      "59    b5c61dc0-138d-4d49-ae4a-c4ca75787cb2  49.0   Male  Afghanistan  Android   \n",
      "2028  9ce85d56-3f8f-431a-b0bf-eec096811b39  15.0   Male         Iran      iOS   \n",
      "760   a8881761-c5ca-4ded-ad96-81e76b2f04e1  37.0   Male      Denmark  Android   \n",
      "2563  3adbf004-12bb-4abc-985a-ec2c3e399704  32.0   Male       Russia      iOS   \n",
      "2304  a9f827e9-f212-47ab-8c8a-81e6b6d7145d  47.0   Male  Afghanistan      iOS   \n",
      "\n",
      "          GameGenre  SessionCount  AverageSessionLength SpendingSegment  \\\n",
      "59         Strategy             9                 21.42           Whale   \n",
      "2028  Battle Royale             8                 14.91           Whale   \n",
      "760       Adventure            10                 24.31           Whale   \n",
      "2563         MMORPG            14                 27.42           Whale   \n",
      "2304     Simulation            12                 28.80           Whale   \n",
      "\n",
      "      InAppPurchaseAmount  FirstPurchaseDaysAfterInstall PaymentMethod  \\\n",
      "59                4964.45                           11.0   Credit Card   \n",
      "2028              4931.98                           22.0        Paypal   \n",
      "760               4930.28                           11.0    Debit Card   \n",
      "2563              4893.16                            4.0    Debit Card   \n",
      "2304              4770.77                            2.0        Paypal   \n",
      "\n",
      "     LastPurchaseDate  \n",
      "59         2025-01-28  \n",
      "2028       2025-07-15  \n",
      "760        2025-04-15  \n",
      "2563       2025-04-13  \n",
      "2304       2025-03-07   \n",
      "\n"
     ]
    }
   ],
   "source": [
    "print(\"Top spenders:\\n\", df.sort_values(\"InAppPurchaseAmount\", ascending=False).head(), \"\\n\")"
   ]
  },
  {
   "cell_type": "code",
   "execution_count": 34,
   "id": "240c2606",
   "metadata": {},
   "outputs": [
    {
     "name": "stdout",
     "output_type": "stream",
     "text": [
      "Mean of s1: 30.0\n",
      "Max of s1: 50\n",
      "Min of s1: 10\n"
     ]
    }
   ],
   "source": [
    "import pandas as pd\n",
    "\n",
    "# Create a Series\n",
    "s1 = pd.Series([10, 20, 30, 40, 50])\n",
    "\n",
    "# Now you can run these without error\n",
    "print(\"Mean of s1:\", s1.mean())\n",
    "print(\"Max of s1:\", s1.max())\n",
    "print(\"Min of s1:\", s1.min())\n"
   ]
  }
 ],
 "metadata": {
  "kernelspec": {
   "display_name": "Python 3",
   "language": "python",
   "name": "python3"
  },
  "language_info": {
   "codemirror_mode": {
    "name": "ipython",
    "version": 3
   },
   "file_extension": ".py",
   "mimetype": "text/x-python",
   "name": "python",
   "nbconvert_exporter": "python",
   "pygments_lexer": "ipython3",
   "version": "3.13.5"
  }
 },
 "nbformat": 4,
 "nbformat_minor": 5
}
